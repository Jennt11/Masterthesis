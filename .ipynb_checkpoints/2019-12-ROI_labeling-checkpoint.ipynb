{
 "cells": [
  {
   "cell_type": "markdown",
   "metadata": {},
   "source": [
    "# Reading in ROI labels and concatenating them"
   ]
  },
  {
   "cell_type": "code",
   "execution_count": 3,
   "metadata": {},
   "outputs": [],
   "source": [
    "import numpy as np\n",
    "import pandas as pd"
   ]
  },
  {
   "cell_type": "code",
   "execution_count": null,
   "metadata": {},
   "outputs": [],
   "source": [
    "labels_path_pfc = '/Users/jenniferthem/Masterthesis_Data/PFC_ROIs.csv'\n",
    "labels_path_str = '/Users/jenniferthem/Masterthesis_Data/Striatum_ROIs.csv'\n",
    "labels_pfc = pd.read_csv(labels_path_pfc, engine='c', header =None)\n",
    "#data = pd.read_csv(dat_path, engine='c').astype('float32') \n",
    "labels_str = pd.read_csv(labels_path_str, engine='c', header=None)"
   ]
  },
  {
   "cell_type": "code",
   "execution_count": null,
   "metadata": {},
   "outputs": [],
   "source": [
    "roi_labels = pd.concat([labels_pfc, labels_str], axis=0, ignore_index=True, sort=False)\n",
    "roi_labels.columns = ['label']"
   ]
  },
  {
   "cell_type": "code",
   "execution_count": null,
   "metadata": {},
   "outputs": [],
   "source": [
    "# saving them with the name roi_labels\n",
    "np.save('/Users/jenniferthem/Masterthesis_Data/roi_labels', roi_labels)"
   ]
  }
 ],
 "metadata": {
  "kernelspec": {
   "display_name": "Python 3",
   "language": "python",
   "name": "python3"
  },
  "language_info": {
   "codemirror_mode": {
    "name": "ipython",
    "version": 3
   },
   "file_extension": ".py",
   "mimetype": "text/x-python",
   "name": "python",
   "nbconvert_exporter": "python",
   "pygments_lexer": "ipython3",
   "version": "3.7.4"
  }
 },
 "nbformat": 4,
 "nbformat_minor": 2
}
