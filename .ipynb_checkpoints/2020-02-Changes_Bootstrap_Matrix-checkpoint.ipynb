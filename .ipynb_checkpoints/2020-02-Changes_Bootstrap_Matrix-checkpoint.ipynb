{
 "cells": [
  {
   "cell_type": "code",
   "execution_count": 36,
   "metadata": {},
   "outputs": [],
   "source": [
    "import numpy as np\n",
    "import pandas as pd\n",
    "import matplotlib.pyplot as plt\n",
    "import scipy\n",
    "import seaborn as sns\n",
    "import pickle\n",
    "from scipy import spatial\n",
    "from scipy.spatial import distance\n",
    "import scipy.stats as st\n",
    "import os\n",
    "import copy"
   ]
  },
  {
   "cell_type": "markdown",
   "metadata": {},
   "source": [
    "Load bootstrapped means"
   ]
  },
  {
   "cell_type": "code",
   "execution_count": 11,
   "metadata": {},
   "outputs": [],
   "source": [
    "ofc1_df = np.load('/Users/jenniferthem/Masterthesis_Data/Bootstrap/bootstrap_ofc1', allow_pickle=True)\n",
    "ofc2_df = np.load('/Users/jenniferthem/Masterthesis_Data/Bootstrap/bootstrap_ofc2', allow_pickle=True)\n",
    "ofc3_df = np.load('/Users/jenniferthem/Masterthesis_Data/Bootstrap/bootstrap_ofc3', allow_pickle=True)\n",
    "ofc4_df = np.load('/Users/jenniferthem/Masterthesis_Data/Bootstrap/bootstrap_ofc4', allow_pickle=True)\n",
    "ofc5_df = np.load('/Users/jenniferthem/Masterthesis_Data/Bootstrap/bootstrap_ofc5', allow_pickle=True)\n",
    "ofc6_df = np.load('/Users/jenniferthem/Masterthesis_Data/Bootstrap/bootstrap_ofc6', allow_pickle=True)\n",
    "ofc7_df = np.load('/Users/jenniferthem/Masterthesis_Data/Bootstrap/bootstrap_ofc7', allow_pickle=True)\n",
    "fp2_df = np.load('/Users/jenniferthem/Masterthesis_Data/Bootstrap/bootstrap_fp2', allow_pickle=True)\n",
    "r25_df = np.load('/Users/jenniferthem/Masterthesis_Data/Bootstrap/bootstrap_25', allow_pickle=True)\n",
    "s32_df = np.load('/Users/jenniferthem/Masterthesis_Data/Bootstrap/bootstrap_s32', allow_pickle=True)\n",
    "p24ab_df = np.load('/Users/jenniferthem/Masterthesis_Data/Bootstrap/bootstrap_p24ab', allow_pickle=True)\n",
    "p24c_df= np.load('/Users/jenniferthem/Masterthesis_Data/Bootstrap/bootstrap_p24c', allow_pickle=True)\n",
    "r33_df = np.load('/Users/jenniferthem/Masterthesis_Data/Bootstrap/bootstrap_33', allow_pickle=True)\n",
    "p32_df = np.load('/Users/jenniferthem/Masterthesis_Data/Bootstrap/bootstrap_p32', allow_pickle=True)\n",
    "s24_df = np.load('/Users/jenniferthem/Masterthesis_Data/Bootstrap/bootstrap_s24', allow_pickle=True)\n",
    "caudate_df= np.load('/Users/jenniferthem/Masterthesis_Data/Bootstrap/bootstrap_caudate', allow_pickle=True)\n",
    "putamen_df= np.load('/Users/jenniferthem/Masterthesis_Data/Bootstrap/bootstrap_putamen', allow_pickle=True)\n",
    "nacc_df= np.load('/Users/jenniferthem/Masterthesis_Data/Bootstrap/bootstrap_nacc', allow_pickle=True)"
   ]
  },
  {
   "cell_type": "markdown",
   "metadata": {},
   "source": [
    "mean of the bootstrap"
   ]
  },
  {
   "cell_type": "code",
   "execution_count": 16,
   "metadata": {},
   "outputs": [],
   "source": [
    "ofc1_mean = ofc1_df.mean()\n",
    "ofc2_mean = ofc2_df.mean()\n",
    "ofc3_mean = ofc3_df.mean()\n",
    "ofc4_mean = ofc4_df.mean()\n",
    "ofc5_mean = ofc5_df.mean()\n",
    "ofc6_mean = ofc6_df.mean()\n",
    "ofc7_mean = ofc7_df.mean()\n",
    "fp2_mean = fp2_df.mean()\n",
    "r25_mean = r25_df.mean()\n",
    "s32_mean = s32_df.mean()\n",
    "p24ab_mean = p24ab_df.mean()\n",
    "p24c_mean = p24c_df.mean()\n",
    "r33_mean = r33_df.mean()\n",
    "p32_mean = p32_df.mean()\n",
    "s24_mean = s24_df.mean()\n",
    "caudate_mean = caudate_df.mean()\n",
    "putamen_mean = putamen_df.mean()\n",
    "nacc_mean = nacc_df.mean()"
   ]
  },
  {
   "cell_type": "code",
   "execution_count": 17,
   "metadata": {},
   "outputs": [
    {
     "data": {
      "text/html": [
       "<div>\n",
       "<style scoped>\n",
       "    .dataframe tbody tr th:only-of-type {\n",
       "        vertical-align: middle;\n",
       "    }\n",
       "\n",
       "    .dataframe tbody tr th {\n",
       "        vertical-align: top;\n",
       "    }\n",
       "\n",
       "    .dataframe thead th {\n",
       "        text-align: right;\n",
       "    }\n",
       "</style>\n",
       "<table border=\"1\" class=\"dataframe\">\n",
       "  <thead>\n",
       "    <tr style=\"text-align: right;\">\n",
       "      <th></th>\n",
       "      <th>Ketamine</th>\n",
       "      <th>Placebo</th>\n",
       "      <th>Ketamine-Placebo</th>\n",
       "    </tr>\n",
       "  </thead>\n",
       "  <tbody>\n",
       "    <tr>\n",
       "      <th>0</th>\n",
       "      <td>-0.328581</td>\n",
       "      <td>-0.140475</td>\n",
       "      <td>-0.177434</td>\n",
       "    </tr>\n",
       "    <tr>\n",
       "      <th>1</th>\n",
       "      <td>-0.288660</td>\n",
       "      <td>-0.092038</td>\n",
       "      <td>-0.191457</td>\n",
       "    </tr>\n",
       "    <tr>\n",
       "      <th>2</th>\n",
       "      <td>-0.303731</td>\n",
       "      <td>-0.115546</td>\n",
       "      <td>-0.231985</td>\n",
       "    </tr>\n",
       "    <tr>\n",
       "      <th>3</th>\n",
       "      <td>-0.262176</td>\n",
       "      <td>-0.100059</td>\n",
       "      <td>-0.176455</td>\n",
       "    </tr>\n",
       "    <tr>\n",
       "      <th>4</th>\n",
       "      <td>-0.294088</td>\n",
       "      <td>-0.148288</td>\n",
       "      <td>-0.194417</td>\n",
       "    </tr>\n",
       "    <tr>\n",
       "      <th>...</th>\n",
       "      <td>...</td>\n",
       "      <td>...</td>\n",
       "      <td>...</td>\n",
       "    </tr>\n",
       "    <tr>\n",
       "      <th>49995</th>\n",
       "      <td>-0.280277</td>\n",
       "      <td>-0.077159</td>\n",
       "      <td>-0.238783</td>\n",
       "    </tr>\n",
       "    <tr>\n",
       "      <th>49996</th>\n",
       "      <td>-0.352529</td>\n",
       "      <td>-0.099250</td>\n",
       "      <td>-0.199169</td>\n",
       "    </tr>\n",
       "    <tr>\n",
       "      <th>49997</th>\n",
       "      <td>-0.295429</td>\n",
       "      <td>-0.085932</td>\n",
       "      <td>-0.249325</td>\n",
       "    </tr>\n",
       "    <tr>\n",
       "      <th>49998</th>\n",
       "      <td>-0.293253</td>\n",
       "      <td>-0.067130</td>\n",
       "      <td>-0.224155</td>\n",
       "    </tr>\n",
       "    <tr>\n",
       "      <th>49999</th>\n",
       "      <td>-0.307694</td>\n",
       "      <td>-0.102680</td>\n",
       "      <td>-0.213046</td>\n",
       "    </tr>\n",
       "  </tbody>\n",
       "</table>\n",
       "<p>50000 rows × 3 columns</p>\n",
       "</div>"
      ],
      "text/plain": [
       "       Ketamine   Placebo  Ketamine-Placebo\n",
       "0     -0.328581 -0.140475         -0.177434\n",
       "1     -0.288660 -0.092038         -0.191457\n",
       "2     -0.303731 -0.115546         -0.231985\n",
       "3     -0.262176 -0.100059         -0.176455\n",
       "4     -0.294088 -0.148288         -0.194417\n",
       "...         ...       ...               ...\n",
       "49995 -0.280277 -0.077159         -0.238783\n",
       "49996 -0.352529 -0.099250         -0.199169\n",
       "49997 -0.295429 -0.085932         -0.249325\n",
       "49998 -0.293253 -0.067130         -0.224155\n",
       "49999 -0.307694 -0.102680         -0.213046\n",
       "\n",
       "[50000 rows x 3 columns]"
      ]
     },
     "execution_count": 17,
     "metadata": {},
     "output_type": "execute_result"
    }
   ],
   "source": [
    "ofc1_df"
   ]
  },
  {
   "cell_type": "code",
   "execution_count": 18,
   "metadata": {},
   "outputs": [
    {
     "data": {
      "text/plain": [
       "Ketamine           -0.304593\n",
       "Placebo            -0.095718\n",
       "Ketamine-Placebo   -0.209391\n",
       "dtype: float64"
      ]
     },
     "execution_count": 18,
     "metadata": {},
     "output_type": "execute_result"
    }
   ],
   "source": [
    "ofc1_mean"
   ]
  },
  {
   "cell_type": "code",
   "execution_count": 38,
   "metadata": {},
   "outputs": [
    {
     "name": "stdout",
     "output_type": "stream",
     "text": [
      "{'Ketamine': {'OFC1': -0.3045934147470274, 'OFC2': -0.2629442783787549, 'OFC3': -0.038873694223267245, 'OFC4': 0.15971719815832913, 'OFC5': 0.36033911122128, 'OFC6': -0.08006635768404316, 'OFC7': -0.06500350726259314, 's32': 0.12196164722483145, 'FP2': 0.04357906045457652, '25': 0.8592004305005436, 's24': -0.13333877350152637, '33': -0.1510096408129656, 'p32': -0.02702511777539823, 'p24ab': -0.24133457643741724, 'p24c': 0.8427120183237022, 'Putamen': -0.24001543312553814, 'NAcc': -0.21039163466958108, 'Caudate': 0.006252720793209278}, 'Placebo': {'OFC1': -0.09571836804507908, 'OFC2': -0.12008681209954253, 'OFC3': -0.3505261130602596, 'OFC4': -0.2074258583708439, 'OFC5': -0.3906831174686508, 'OFC6': -0.27900517543774067, 'OFC7': -0.3477155585502428, 's32': -0.15674103277653612, 'FP2': -0.11319870914845044, '25': -0.24171328477006973, 's24': -0.12293333549304057, '33': 0.0652884739694284, 'p32': -0.6398757357871377, 'p24ab': -0.25122360920401227, 'p24c': -0.23359347551748502, 'Putamen': -0.2548808751156002, 'NAcc': -0.2432004448446405, 'Caudate': 0.008951006889117081}, 'Ketamine-Placebo': {'OFC1': -0.20939093328949857, 'OFC2': -0.14270588723492317, 'OFC3': 0.3120593914564005, 'OFC4': 0.36613214738374894, 'OFC5': 0.751702741325044, 'OFC6': 0.19878839359943443, 'OFC7': 0.2824184312761161, 's32': 0.2787172487913774, 'FP2': 0.15759548770981782, '25': 1.1013997119416594, 's24': -0.010367601071549661, '33': -0.21623705216104805, 'p32': 0.612503843244142, 'p24ab': 0.010064822144660115, 'p24c': 1.0752217843549252, 'Putamen': 0.0149659558662528, 'NAcc': 0.03271349894150995, 'Caudate': -0.002465409596664787}}\n"
     ]
    }
   ],
   "source": [
    "# Nested dictionary: for outer layer Ketamine, Placebo and Ketamine-Placebo\n",
    "# inner layer: \n",
    "bootstrap_mean_dict = {}\n",
    "roi_val_dict = {}\n",
    "roi_keys = ['OFC1', 'OFC2', 'OFC3', 'OFC4', 'OFC5', 'OFC6', 'OFC7', 's32', 'FP2', '25', 's24', '33', 'p32', 'p24ab', 'p24c', 'Putamen', 'NAcc', 'Caudate']\n",
    "keys = ['Ketamine', 'Placebo', 'Ketamine-Placebo']\n",
    "roi_list = [ofc1_mean, ofc2_mean, ofc3_mean, ofc4_mean, ofc5_mean, ofc6_mean, ofc7_mean, fp2_mean, r25_mean, s32_mean, p24ab_mean, p24c_mean, r33_mean, p32_mean, s24_mean, caudate_mean, putamen_mean, nacc_mean]\n",
    "\n",
    "# loop through all conditions\n",
    "for key in keys:\n",
    "    i=0\n",
    "    #print(key)\n",
    "    # loop through all ROIs\n",
    "    for entry in roi_list:\n",
    "        #print(entry)\n",
    "        roi_name=roi_keys[i]\n",
    "        # fill inner dictionary: {ROI:mean_bootstrap}\n",
    "        roi_val_dict[roi_name] = entry[key]\n",
    "        i+=1\n",
    "    # fill outer dictionary: {Conditon: {inner dictionary}}    \n",
    "    # make deepcopy!\n",
    "    bootstrap_mean_dict[key] = copy.deepcopy(roi_val_dict)\n"
   ]
  },
  {
   "cell_type": "code",
   "execution_count": 39,
   "metadata": {},
   "outputs": [
    {
     "data": {
      "text/plain": [
       "{'Ketamine': {'OFC1': -0.3045934147470274,\n",
       "  'OFC2': -0.2629442783787549,\n",
       "  'OFC3': -0.038873694223267245,\n",
       "  'OFC4': 0.15971719815832913,\n",
       "  'OFC5': 0.36033911122128,\n",
       "  'OFC6': -0.08006635768404316,\n",
       "  'OFC7': -0.06500350726259314,\n",
       "  's32': 0.12196164722483145,\n",
       "  'FP2': 0.04357906045457652,\n",
       "  '25': 0.8592004305005436,\n",
       "  's24': -0.13333877350152637,\n",
       "  '33': -0.1510096408129656,\n",
       "  'p32': -0.02702511777539823,\n",
       "  'p24ab': -0.24133457643741724,\n",
       "  'p24c': 0.8427120183237022,\n",
       "  'Putamen': -0.24001543312553814,\n",
       "  'NAcc': -0.21039163466958108,\n",
       "  'Caudate': 0.006252720793209278},\n",
       " 'Placebo': {'OFC1': -0.09571836804507908,\n",
       "  'OFC2': -0.12008681209954253,\n",
       "  'OFC3': -0.3505261130602596,\n",
       "  'OFC4': -0.2074258583708439,\n",
       "  'OFC5': -0.3906831174686508,\n",
       "  'OFC6': -0.27900517543774067,\n",
       "  'OFC7': -0.3477155585502428,\n",
       "  's32': -0.15674103277653612,\n",
       "  'FP2': -0.11319870914845044,\n",
       "  '25': -0.24171328477006973,\n",
       "  's24': -0.12293333549304057,\n",
       "  '33': 0.0652884739694284,\n",
       "  'p32': -0.6398757357871377,\n",
       "  'p24ab': -0.25122360920401227,\n",
       "  'p24c': -0.23359347551748502,\n",
       "  'Putamen': -0.2548808751156002,\n",
       "  'NAcc': -0.2432004448446405,\n",
       "  'Caudate': 0.008951006889117081},\n",
       " 'Ketamine-Placebo': {'OFC1': -0.20939093328949857,\n",
       "  'OFC2': -0.14270588723492317,\n",
       "  'OFC3': 0.3120593914564005,\n",
       "  'OFC4': 0.36613214738374894,\n",
       "  'OFC5': 0.751702741325044,\n",
       "  'OFC6': 0.19878839359943443,\n",
       "  'OFC7': 0.2824184312761161,\n",
       "  's32': 0.2787172487913774,\n",
       "  'FP2': 0.15759548770981782,\n",
       "  '25': 1.1013997119416594,\n",
       "  's24': -0.010367601071549661,\n",
       "  '33': -0.21623705216104805,\n",
       "  'p32': 0.612503843244142,\n",
       "  'p24ab': 0.010064822144660115,\n",
       "  'p24c': 1.0752217843549252,\n",
       "  'Putamen': 0.0149659558662528,\n",
       "  'NAcc': 0.03271349894150995,\n",
       "  'Caudate': -0.002465409596664787}}"
      ]
     },
     "execution_count": 39,
     "metadata": {},
     "output_type": "execute_result"
    }
   ],
   "source": [
    "bootstrap_mean_dict"
   ]
  },
  {
   "cell_type": "code",
   "execution_count": null,
   "metadata": {},
   "outputs": [],
   "source": []
  }
 ],
 "metadata": {
  "kernelspec": {
   "display_name": "Python 3",
   "language": "python",
   "name": "python3"
  },
  "language_info": {
   "codemirror_mode": {
    "name": "ipython",
    "version": 3
   },
   "file_extension": ".py",
   "mimetype": "text/x-python",
   "name": "python",
   "nbconvert_exporter": "python",
   "pygments_lexer": "ipython3",
   "version": "3.7.4"
  }
 },
 "nbformat": 4,
 "nbformat_minor": 2
}
