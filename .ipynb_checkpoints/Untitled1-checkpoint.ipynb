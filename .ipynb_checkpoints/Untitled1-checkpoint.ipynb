{
 "cells": [
  {
   "cell_type": "code",
   "execution_count": null,
   "metadata": {},
   "outputs": [],
   "source": [
    "# input: dataframe containing x,y (UMAP),ROI --> 3D\n",
    "def calculate_centroid(input_df):\n",
    "    # split dataframe according to ROIs\n",
    "    split_df = input_df.groupby('ROI')\n",
    "    # arithmetic mean values for all ROIs used as centroids of the ROIs\n",
    "    ROI_mean = split_df.mean()\n",
    "    # mean df to numpy\n",
    "    ROI_mean_arr = ROI_mean.to_numpy()\n",
    "    for i in range(18):\n",
    "        ROI_df = list(split_df)[i]\n",
    "        # dataframe of one ROI\n",
    "        # extracting the x and y columns and making it numpy array\n",
    "        ROI_coord = ROI_arr[1].iloc[:,0:2].to_numpy()\n",
    "        # centroids (x,y) of this ROI\n",
    "        curr_mean = ROI_mean_arr[i]\n",
    "        \n",
    "        # calculating distance centroid to all other points\n",
    "        "
   ]
  }
 ],
 "metadata": {
  "kernelspec": {
   "display_name": "Python 3",
   "language": "python",
   "name": "python3"
  },
  "language_info": {
   "codemirror_mode": {
    "name": "ipython",
    "version": 3
   },
   "file_extension": ".py",
   "mimetype": "text/x-python",
   "name": "python",
   "nbconvert_exporter": "python",
   "pygments_lexer": "ipython3",
   "version": "3.7.4"
  }
 },
 "nbformat": 4,
 "nbformat_minor": 2
}
