{
 "cells": [
  {
   "cell_type": "markdown",
   "metadata": {},
   "source": [
    "## Calculating Pearson correlation distance"
   ]
  },
  {
   "cell_type": "markdown",
   "metadata": {},
   "source": [
    "Script: calculates distance from Pearson correlation\n",
    "\n",
    "Input: Pearson FC matrix 11883 x 11883 "
   ]
  },
  {
   "cell_type": "code",
   "execution_count": null,
   "metadata": {},
   "outputs": [],
   "source": [
    "#import multiprocessing as mp\n",
    "import pandas as pd\n",
    "import numpy as np\n",
    "from scipy.spatial import distance\n",
    "from sklearn.metrics import pairwise_distances"
   ]
  },
  {
   "cell_type": "code",
   "execution_count": 2,
   "metadata": {},
   "outputs": [],
   "source": [
    "data_path = 'C:/Users/canlab/Desktop/Masterthesis_python/z_m_corr_mat_baseline.csv'\n",
    "corr_mat = pd.read_csv(data_path, engine='c', header = None).astype('float32') "
   ]
  },
  {
   "cell_type": "code",
   "execution_count": 3,
   "metadata": {},
   "outputs": [],
   "source": [
    "pd.set_option('use_inf_as_na', True)"
   ]
  },
  {
   "cell_type": "code",
   "execution_count": 4,
   "metadata": {},
   "outputs": [],
   "source": [
    "corr_mat_df = corr_mat.fillna(1)"
   ]
  },
  {
   "cell_type": "code",
   "execution_count": 5,
   "metadata": {},
   "outputs": [
    {
     "data": {
      "text/html": [
       "<div>\n",
       "<style scoped>\n",
       "    .dataframe tbody tr th:only-of-type {\n",
       "        vertical-align: middle;\n",
       "    }\n",
       "\n",
       "    .dataframe tbody tr th {\n",
       "        vertical-align: top;\n",
       "    }\n",
       "\n",
       "    .dataframe thead th {\n",
       "        text-align: right;\n",
       "    }\n",
       "</style>\n",
       "<table border=\"1\" class=\"dataframe\">\n",
       "  <thead>\n",
       "    <tr style=\"text-align: right;\">\n",
       "      <th></th>\n",
       "      <th>0</th>\n",
       "      <th>1</th>\n",
       "      <th>2</th>\n",
       "      <th>3</th>\n",
       "      <th>4</th>\n",
       "      <th>5</th>\n",
       "      <th>6</th>\n",
       "      <th>7</th>\n",
       "      <th>8</th>\n",
       "      <th>9</th>\n",
       "      <th>...</th>\n",
       "      <th>11873</th>\n",
       "      <th>11874</th>\n",
       "      <th>11875</th>\n",
       "      <th>11876</th>\n",
       "      <th>11877</th>\n",
       "      <th>11878</th>\n",
       "      <th>11879</th>\n",
       "      <th>11880</th>\n",
       "      <th>11881</th>\n",
       "      <th>11882</th>\n",
       "    </tr>\n",
       "  </thead>\n",
       "  <tbody>\n",
       "    <tr>\n",
       "      <th>0</th>\n",
       "      <td>1.000000</td>\n",
       "      <td>0.190073</td>\n",
       "      <td>0.122199</td>\n",
       "      <td>-0.010400</td>\n",
       "      <td>0.044782</td>\n",
       "      <td>0.037398</td>\n",
       "      <td>0.009948</td>\n",
       "      <td>0.017958</td>\n",
       "      <td>-0.031793</td>\n",
       "      <td>0.002940</td>\n",
       "      <td>...</td>\n",
       "      <td>-0.023032</td>\n",
       "      <td>-0.008735</td>\n",
       "      <td>-0.023229</td>\n",
       "      <td>0.004165</td>\n",
       "      <td>-0.018986</td>\n",
       "      <td>0.013869</td>\n",
       "      <td>-0.003903</td>\n",
       "      <td>-0.002313</td>\n",
       "      <td>0.000121</td>\n",
       "      <td>-0.021729</td>\n",
       "    </tr>\n",
       "    <tr>\n",
       "      <th>1</th>\n",
       "      <td>0.190073</td>\n",
       "      <td>1.000000</td>\n",
       "      <td>0.244537</td>\n",
       "      <td>-0.010937</td>\n",
       "      <td>0.132719</td>\n",
       "      <td>0.054796</td>\n",
       "      <td>0.039224</td>\n",
       "      <td>0.039553</td>\n",
       "      <td>0.034149</td>\n",
       "      <td>0.085658</td>\n",
       "      <td>...</td>\n",
       "      <td>-0.015646</td>\n",
       "      <td>0.000505</td>\n",
       "      <td>-0.016302</td>\n",
       "      <td>0.007040</td>\n",
       "      <td>-0.019177</td>\n",
       "      <td>-0.000737</td>\n",
       "      <td>-0.025141</td>\n",
       "      <td>0.010625</td>\n",
       "      <td>0.001388</td>\n",
       "      <td>-0.023266</td>\n",
       "    </tr>\n",
       "    <tr>\n",
       "      <th>2</th>\n",
       "      <td>0.122199</td>\n",
       "      <td>0.244537</td>\n",
       "      <td>1.000000</td>\n",
       "      <td>0.250677</td>\n",
       "      <td>-0.002058</td>\n",
       "      <td>0.046859</td>\n",
       "      <td>0.026447</td>\n",
       "      <td>0.047875</td>\n",
       "      <td>-0.019307</td>\n",
       "      <td>0.053231</td>\n",
       "      <td>...</td>\n",
       "      <td>-0.005958</td>\n",
       "      <td>-0.003891</td>\n",
       "      <td>0.002164</td>\n",
       "      <td>0.001176</td>\n",
       "      <td>-0.017871</td>\n",
       "      <td>-0.004516</td>\n",
       "      <td>-0.028596</td>\n",
       "      <td>-0.013283</td>\n",
       "      <td>0.004177</td>\n",
       "      <td>-0.024168</td>\n",
       "    </tr>\n",
       "    <tr>\n",
       "      <th>3</th>\n",
       "      <td>-0.010400</td>\n",
       "      <td>-0.010937</td>\n",
       "      <td>0.250677</td>\n",
       "      <td>1.000000</td>\n",
       "      <td>0.331399</td>\n",
       "      <td>0.011331</td>\n",
       "      <td>0.008701</td>\n",
       "      <td>0.004794</td>\n",
       "      <td>0.032620</td>\n",
       "      <td>0.012360</td>\n",
       "      <td>...</td>\n",
       "      <td>0.023866</td>\n",
       "      <td>-0.040187</td>\n",
       "      <td>0.017664</td>\n",
       "      <td>-0.018539</td>\n",
       "      <td>0.029983</td>\n",
       "      <td>0.019299</td>\n",
       "      <td>0.030204</td>\n",
       "      <td>0.016708</td>\n",
       "      <td>0.011591</td>\n",
       "      <td>-0.010190</td>\n",
       "    </tr>\n",
       "    <tr>\n",
       "      <th>4</th>\n",
       "      <td>0.044782</td>\n",
       "      <td>0.132719</td>\n",
       "      <td>-0.002058</td>\n",
       "      <td>0.331399</td>\n",
       "      <td>1.000000</td>\n",
       "      <td>-0.015189</td>\n",
       "      <td>0.002348</td>\n",
       "      <td>0.014416</td>\n",
       "      <td>0.045493</td>\n",
       "      <td>0.022873</td>\n",
       "      <td>...</td>\n",
       "      <td>0.007388</td>\n",
       "      <td>-0.039979</td>\n",
       "      <td>0.016427</td>\n",
       "      <td>-0.035929</td>\n",
       "      <td>0.015849</td>\n",
       "      <td>0.017295</td>\n",
       "      <td>0.023149</td>\n",
       "      <td>0.014547</td>\n",
       "      <td>-0.006427</td>\n",
       "      <td>-0.023637</td>\n",
       "    </tr>\n",
       "    <tr>\n",
       "      <th>...</th>\n",
       "      <td>...</td>\n",
       "      <td>...</td>\n",
       "      <td>...</td>\n",
       "      <td>...</td>\n",
       "      <td>...</td>\n",
       "      <td>...</td>\n",
       "      <td>...</td>\n",
       "      <td>...</td>\n",
       "      <td>...</td>\n",
       "      <td>...</td>\n",
       "      <td>...</td>\n",
       "      <td>...</td>\n",
       "      <td>...</td>\n",
       "      <td>...</td>\n",
       "      <td>...</td>\n",
       "      <td>...</td>\n",
       "      <td>...</td>\n",
       "      <td>...</td>\n",
       "      <td>...</td>\n",
       "      <td>...</td>\n",
       "      <td>...</td>\n",
       "    </tr>\n",
       "    <tr>\n",
       "      <th>11878</th>\n",
       "      <td>0.013869</td>\n",
       "      <td>-0.000737</td>\n",
       "      <td>-0.004516</td>\n",
       "      <td>0.019299</td>\n",
       "      <td>0.017295</td>\n",
       "      <td>-0.007111</td>\n",
       "      <td>-0.015374</td>\n",
       "      <td>0.012407</td>\n",
       "      <td>0.009968</td>\n",
       "      <td>-0.013990</td>\n",
       "      <td>...</td>\n",
       "      <td>0.232212</td>\n",
       "      <td>0.197342</td>\n",
       "      <td>0.207674</td>\n",
       "      <td>0.221070</td>\n",
       "      <td>0.161816</td>\n",
       "      <td>1.000000</td>\n",
       "      <td>0.789299</td>\n",
       "      <td>0.336485</td>\n",
       "      <td>0.291064</td>\n",
       "      <td>0.250657</td>\n",
       "    </tr>\n",
       "    <tr>\n",
       "      <th>11879</th>\n",
       "      <td>-0.003903</td>\n",
       "      <td>-0.025141</td>\n",
       "      <td>-0.028596</td>\n",
       "      <td>0.030204</td>\n",
       "      <td>0.023149</td>\n",
       "      <td>-0.016098</td>\n",
       "      <td>-0.026550</td>\n",
       "      <td>0.008925</td>\n",
       "      <td>0.019954</td>\n",
       "      <td>-0.025964</td>\n",
       "      <td>...</td>\n",
       "      <td>0.253280</td>\n",
       "      <td>0.211977</td>\n",
       "      <td>0.220728</td>\n",
       "      <td>0.211267</td>\n",
       "      <td>0.186178</td>\n",
       "      <td>0.789299</td>\n",
       "      <td>1.000000</td>\n",
       "      <td>0.717094</td>\n",
       "      <td>0.303201</td>\n",
       "      <td>0.309652</td>\n",
       "    </tr>\n",
       "    <tr>\n",
       "      <th>11880</th>\n",
       "      <td>-0.002313</td>\n",
       "      <td>0.010625</td>\n",
       "      <td>-0.013283</td>\n",
       "      <td>0.016708</td>\n",
       "      <td>0.014547</td>\n",
       "      <td>-0.000638</td>\n",
       "      <td>-0.013855</td>\n",
       "      <td>-0.002925</td>\n",
       "      <td>0.020974</td>\n",
       "      <td>-0.010081</td>\n",
       "      <td>...</td>\n",
       "      <td>0.217154</td>\n",
       "      <td>0.226576</td>\n",
       "      <td>0.184357</td>\n",
       "      <td>0.226611</td>\n",
       "      <td>0.179102</td>\n",
       "      <td>0.336485</td>\n",
       "      <td>0.717094</td>\n",
       "      <td>1.000000</td>\n",
       "      <td>0.744356</td>\n",
       "      <td>0.311368</td>\n",
       "    </tr>\n",
       "    <tr>\n",
       "      <th>11881</th>\n",
       "      <td>0.000121</td>\n",
       "      <td>0.001388</td>\n",
       "      <td>0.004177</td>\n",
       "      <td>0.011591</td>\n",
       "      <td>-0.006427</td>\n",
       "      <td>-0.006504</td>\n",
       "      <td>-0.003753</td>\n",
       "      <td>0.012275</td>\n",
       "      <td>0.002049</td>\n",
       "      <td>-0.019449</td>\n",
       "      <td>...</td>\n",
       "      <td>0.192376</td>\n",
       "      <td>0.238928</td>\n",
       "      <td>0.178672</td>\n",
       "      <td>0.226127</td>\n",
       "      <td>0.163393</td>\n",
       "      <td>0.291064</td>\n",
       "      <td>0.303201</td>\n",
       "      <td>0.744356</td>\n",
       "      <td>1.000000</td>\n",
       "      <td>0.752035</td>\n",
       "    </tr>\n",
       "    <tr>\n",
       "      <th>11882</th>\n",
       "      <td>-0.021729</td>\n",
       "      <td>-0.023266</td>\n",
       "      <td>-0.024168</td>\n",
       "      <td>-0.010190</td>\n",
       "      <td>-0.023637</td>\n",
       "      <td>-0.028520</td>\n",
       "      <td>-0.013013</td>\n",
       "      <td>0.002905</td>\n",
       "      <td>0.003055</td>\n",
       "      <td>-0.030122</td>\n",
       "      <td>...</td>\n",
       "      <td>0.197732</td>\n",
       "      <td>0.228757</td>\n",
       "      <td>0.190368</td>\n",
       "      <td>0.201977</td>\n",
       "      <td>0.176650</td>\n",
       "      <td>0.250657</td>\n",
       "      <td>0.309652</td>\n",
       "      <td>0.311368</td>\n",
       "      <td>0.752035</td>\n",
       "      <td>1.000000</td>\n",
       "    </tr>\n",
       "  </tbody>\n",
       "</table>\n",
       "<p>11883 rows × 11883 columns</p>\n",
       "</div>"
      ],
      "text/plain": [
       "          0         1         2         3         4         5         6      \\\n",
       "0      1.000000  0.190073  0.122199 -0.010400  0.044782  0.037398  0.009948   \n",
       "1      0.190073  1.000000  0.244537 -0.010937  0.132719  0.054796  0.039224   \n",
       "2      0.122199  0.244537  1.000000  0.250677 -0.002058  0.046859  0.026447   \n",
       "3     -0.010400 -0.010937  0.250677  1.000000  0.331399  0.011331  0.008701   \n",
       "4      0.044782  0.132719 -0.002058  0.331399  1.000000 -0.015189  0.002348   \n",
       "...         ...       ...       ...       ...       ...       ...       ...   \n",
       "11878  0.013869 -0.000737 -0.004516  0.019299  0.017295 -0.007111 -0.015374   \n",
       "11879 -0.003903 -0.025141 -0.028596  0.030204  0.023149 -0.016098 -0.026550   \n",
       "11880 -0.002313  0.010625 -0.013283  0.016708  0.014547 -0.000638 -0.013855   \n",
       "11881  0.000121  0.001388  0.004177  0.011591 -0.006427 -0.006504 -0.003753   \n",
       "11882 -0.021729 -0.023266 -0.024168 -0.010190 -0.023637 -0.028520 -0.013013   \n",
       "\n",
       "          7         8         9      ...     11873     11874     11875  \\\n",
       "0      0.017958 -0.031793  0.002940  ... -0.023032 -0.008735 -0.023229   \n",
       "1      0.039553  0.034149  0.085658  ... -0.015646  0.000505 -0.016302   \n",
       "2      0.047875 -0.019307  0.053231  ... -0.005958 -0.003891  0.002164   \n",
       "3      0.004794  0.032620  0.012360  ...  0.023866 -0.040187  0.017664   \n",
       "4      0.014416  0.045493  0.022873  ...  0.007388 -0.039979  0.016427   \n",
       "...         ...       ...       ...  ...       ...       ...       ...   \n",
       "11878  0.012407  0.009968 -0.013990  ...  0.232212  0.197342  0.207674   \n",
       "11879  0.008925  0.019954 -0.025964  ...  0.253280  0.211977  0.220728   \n",
       "11880 -0.002925  0.020974 -0.010081  ...  0.217154  0.226576  0.184357   \n",
       "11881  0.012275  0.002049 -0.019449  ...  0.192376  0.238928  0.178672   \n",
       "11882  0.002905  0.003055 -0.030122  ...  0.197732  0.228757  0.190368   \n",
       "\n",
       "          11876     11877     11878     11879     11880     11881     11882  \n",
       "0      0.004165 -0.018986  0.013869 -0.003903 -0.002313  0.000121 -0.021729  \n",
       "1      0.007040 -0.019177 -0.000737 -0.025141  0.010625  0.001388 -0.023266  \n",
       "2      0.001176 -0.017871 -0.004516 -0.028596 -0.013283  0.004177 -0.024168  \n",
       "3     -0.018539  0.029983  0.019299  0.030204  0.016708  0.011591 -0.010190  \n",
       "4     -0.035929  0.015849  0.017295  0.023149  0.014547 -0.006427 -0.023637  \n",
       "...         ...       ...       ...       ...       ...       ...       ...  \n",
       "11878  0.221070  0.161816  1.000000  0.789299  0.336485  0.291064  0.250657  \n",
       "11879  0.211267  0.186178  0.789299  1.000000  0.717094  0.303201  0.309652  \n",
       "11880  0.226611  0.179102  0.336485  0.717094  1.000000  0.744356  0.311368  \n",
       "11881  0.226127  0.163393  0.291064  0.303201  0.744356  1.000000  0.752035  \n",
       "11882  0.201977  0.176650  0.250657  0.309652  0.311368  0.752035  1.000000  \n",
       "\n",
       "[11883 rows x 11883 columns]"
      ]
     },
     "metadata": {},
     "output_type": "display_data"
    }
   ],
   "source": [
    "display(corr_mat_df)"
   ]
  },
  {
   "cell_type": "code",
   "execution_count": 7,
   "metadata": {},
   "outputs": [],
   "source": [
    "FC_mat = corr_mat_df.to_numpy()"
   ]
  },
  {
   "cell_type": "code",
   "execution_count": 8,
   "metadata": {},
   "outputs": [
    {
     "data": {
      "text/plain": [
       "array([[ 1.0000000e+00,  1.9007330e-01,  1.2219934e-01, ...,\n",
       "        -2.3133066e-03,  1.2110837e-04, -2.1729171e-02],\n",
       "       [ 1.9007330e-01,  1.0000000e+00,  2.4453712e-01, ...,\n",
       "         1.0625493e-02,  1.3884309e-03, -2.3265786e-02],\n",
       "       [ 1.2219934e-01,  2.4453712e-01,  1.0000000e+00, ...,\n",
       "        -1.3282697e-02,  4.1772407e-03, -2.4167635e-02],\n",
       "       ...,\n",
       "       [-2.3133066e-03,  1.0625493e-02, -1.3282697e-02, ...,\n",
       "         1.0000000e+00,  7.4435574e-01,  3.1136835e-01],\n",
       "       [ 1.2110837e-04,  1.3884309e-03,  4.1772407e-03, ...,\n",
       "         7.4435574e-01,  1.0000000e+00,  7.5203472e-01],\n",
       "       [-2.1729171e-02, -2.3265786e-02, -2.4167635e-02, ...,\n",
       "         3.1136835e-01,  7.5203472e-01,  1.0000000e+00]], dtype=float32)"
      ]
     },
     "execution_count": 8,
     "metadata": {},
     "output_type": "execute_result"
    }
   ],
   "source": [
    "FC_mat"
   ]
  },
  {
   "cell_type": "code",
   "execution_count": 9,
   "metadata": {},
   "outputs": [],
   "source": [
    "corr_vec = np.zeros((11883, 11883), dtype='float')"
   ]
  },
  {
   "cell_type": "code",
   "execution_count": 10,
   "metadata": {},
   "outputs": [
    {
     "data": {
      "text/plain": [
       "array([[0., 0., 0., ..., 0., 0., 0.],\n",
       "       [0., 0., 0., ..., 0., 0., 0.],\n",
       "       [0., 0., 0., ..., 0., 0., 0.],\n",
       "       ...,\n",
       "       [0., 0., 0., ..., 0., 0., 0.],\n",
       "       [0., 0., 0., ..., 0., 0., 0.],\n",
       "       [0., 0., 0., ..., 0., 0., 0.]])"
      ]
     },
     "execution_count": 10,
     "metadata": {},
     "output_type": "execute_result"
    }
   ],
   "source": [
    "corr_vec"
   ]
  },
  {
   "cell_type": "code",
   "execution_count": 18,
   "metadata": {},
   "outputs": [],
   "source": [
    "def calculate_corr_distance():\n",
    "\n",
    "    #corr_vec[i,j] = distance.correlation(u,v)\n",
    "    #corr_vec = distance.pdist(FC_mat, 'correlation')\n",
    "    #corr_coef_mat = np.corrcoef(FC_mat)\n",
    "    #corr_vec = pairwise_distances(FC_mat, metric = 'correlation')\n",
    "    corr_vec = 1 - np.corrcoef(FC_mat)\n",
    "    np.save('C:/Users/canlab/Desktop/Masterthesis_python/corr_distance', corr_vec)\n",
    "\n",
    "    return corr_vec"
   ]
  },
  {
   "cell_type": "code",
   "execution_count": 19,
   "metadata": {},
   "outputs": [],
   "source": [
    "co_dist = calculate_corr_distance()"
   ]
  },
  {
   "cell_type": "code",
   "execution_count": 15,
   "metadata": {},
   "outputs": [
    {
     "data": {
      "text/plain": [
       "(11883, 11883)"
      ]
     },
     "execution_count": 15,
     "metadata": {},
     "output_type": "execute_result"
    }
   ],
   "source": [
    "cor.shape"
   ]
  },
  {
   "cell_type": "code",
   "execution_count": 20,
   "metadata": {},
   "outputs": [
    {
     "data": {
      "text/plain": [
       "array([[0.00000000e+00, 6.67595526e-01, 6.07826794e-01, ...,\n",
       "        1.02349204e+00, 1.00602072e+00, 1.06806415e+00],\n",
       "       [6.67595526e-01, 0.00000000e+00, 6.15815186e-01, ...,\n",
       "        1.01088712e+00, 1.04667645e+00, 1.13025687e+00],\n",
       "       [6.07826794e-01, 6.15815186e-01, 0.00000000e+00, ...,\n",
       "        1.03821633e+00, 9.97420346e-01, 1.06777580e+00],\n",
       "       ...,\n",
       "       [1.02349204e+00, 1.01088712e+00, 1.03821633e+00, ...,\n",
       "        2.22044605e-16, 9.14650760e-02, 2.08707693e-01],\n",
       "       [1.00602072e+00, 1.04667645e+00, 9.97420346e-01, ...,\n",
       "        9.14650760e-02, 0.00000000e+00, 9.85301828e-02],\n",
       "       [1.06806415e+00, 1.13025687e+00, 1.06777580e+00, ...,\n",
       "        2.08707693e-01, 9.85301828e-02, 0.00000000e+00]])"
      ]
     },
     "execution_count": 20,
     "metadata": {},
     "output_type": "execute_result"
    }
   ],
   "source": [
    "co_dist"
   ]
  },
  {
   "cell_type": "code",
   "execution_count": 22,
   "metadata": {},
   "outputs": [
    {
     "data": {
      "text/plain": [
       "array([[ 1.        ,  0.33240447,  0.39217321, ..., -0.02349204,\n",
       "        -0.00602072, -0.06806415],\n",
       "       [ 0.33240447,  1.        ,  0.38418481, ..., -0.01088712,\n",
       "        -0.04667645, -0.13025687],\n",
       "       [ 0.39217321,  0.38418481,  1.        , ..., -0.03821633,\n",
       "         0.00257965, -0.0677758 ],\n",
       "       ...,\n",
       "       [-0.02349204, -0.01088712, -0.03821633, ...,  1.        ,\n",
       "         0.90853492,  0.79129231],\n",
       "       [-0.00602072, -0.04667645,  0.00257965, ...,  0.90853492,\n",
       "         1.        ,  0.90146982],\n",
       "       [-0.06806415, -0.13025687, -0.0677758 , ...,  0.79129231,\n",
       "         0.90146982,  1.        ]])"
      ]
     },
     "execution_count": 22,
     "metadata": {},
     "output_type": "execute_result"
    }
   ],
   "source": [
    "cor"
   ]
  },
  {
   "cell_type": "code",
   "execution_count": 12,
   "metadata": {},
   "outputs": [],
   "source": [
    "pool = mp.Pool(mp.cpu_count())"
   ]
  },
  {
   "cell_type": "code",
   "execution_count": null,
   "metadata": {},
   "outputs": [],
   "source": [
    "corr_vec = [pool.apply(calculate_corr_distance)]\n",
    "pool.close()  "
   ]
  },
  {
   "cell_type": "code",
   "execution_count": 13,
   "metadata": {},
   "outputs": [
    {
     "data": {
      "text/plain": [
       "8"
      ]
     },
     "execution_count": 13,
     "metadata": {},
     "output_type": "execute_result"
    }
   ],
   "source": [
    "mp.cpu_count()"
   ]
  },
  {
   "cell_type": "code",
   "execution_count": null,
   "metadata": {},
   "outputs": [],
   "source": [
    "np.save('C:/Users/canlab/Desktop/Masterthesis_python/corr_vec', corr_vec)"
   ]
  },
  {
   "cell_type": "code",
   "execution_count": null,
   "metadata": {},
   "outputs": [],
   "source": [
    "result = calculate_corr_distance()\n",
    "np.save('C:/Users/canlab/Desktop/Masterthesis_python/result', result)"
   ]
  },
  {
   "cell_type": "code",
   "execution_count": null,
   "metadata": {},
   "outputs": [],
   "source": []
  }
 ],
 "metadata": {
  "kernelspec": {
   "display_name": "Python 3",
   "language": "python",
   "name": "python3"
  },
  "language_info": {
   "codemirror_mode": {
    "name": "ipython",
    "version": 3
   },
   "file_extension": ".py",
   "mimetype": "text/x-python",
   "name": "python",
   "nbconvert_exporter": "python",
   "pygments_lexer": "ipython3",
   "version": "3.7.4"
  }
 },
 "nbformat": 4,
 "nbformat_minor": 2
}
