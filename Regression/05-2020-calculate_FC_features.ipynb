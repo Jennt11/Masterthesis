{
 "cells": [
  {
   "cell_type": "markdown",
   "metadata": {},
   "source": [
    "# ROI FC to chosen voxels\n",
    "\n",
    "Calculate the ROI timecourse and their correlation to the chosen voxels from previous analysis step\n",
    "\n",
    "1. Average the timecourse for all ROIs\n",
    "\n",
    "2. Extract timecourses of the voxels\n",
    "\n",
    "3. Calculate the correlation between them"
   ]
  },
  {
   "cell_type": "code",
   "execution_count": 3,
   "metadata": {},
   "outputs": [],
   "source": [
    "import numpy as np\n",
    "import pandas as pd"
   ]
  },
  {
   "cell_type": "code",
   "execution_count": null,
   "metadata": {},
   "outputs": [],
   "source": [
    "# get 11883 x 270 matrix for each participant from the image\n",
    "# saving folder: C:\\Users\\canlab\\Desktop\\Masterthesis_python\\ReDoneAnalysis20200420\\FC_features"
   ]
  },
  {
   "cell_type": "code",
   "execution_count": 10,
   "metadata": {},
   "outputs": [],
   "source": [
    "# label+ID ordering from matlab script t-sne_PFC_labeling\n",
    "labels = np.load('C:/Users/canlab/Desktop/Masterthesis_python/Voxel_ID_ROI_Membership', allow_pickle=True)"
   ]
  },
  {
   "cell_type": "code",
   "execution_count": 6,
   "metadata": {},
   "outputs": [],
   "source": [
    "# voxel ID ordering from the extraction of timecourses: matlab script: connectivity_matrix_modified\n",
    "coord_all=pd.read_csv('C:/Users/canlab/Desktop/Masterthesis_python/ReDoneAnalysis20200420/FC_features/Timeseries_data/coord_all.csv', header = None)"
   ]
  },
  {
   "cell_type": "code",
   "execution_count": 9,
   "metadata": {},
   "outputs": [
    {
     "data": {
      "text/html": [
       "<div>\n",
       "<style scoped>\n",
       "    .dataframe tbody tr th:only-of-type {\n",
       "        vertical-align: middle;\n",
       "    }\n",
       "\n",
       "    .dataframe tbody tr th {\n",
       "        vertical-align: top;\n",
       "    }\n",
       "\n",
       "    .dataframe thead th {\n",
       "        text-align: right;\n",
       "    }\n",
       "</style>\n",
       "<table border=\"1\" class=\"dataframe\">\n",
       "  <thead>\n",
       "    <tr style=\"text-align: right;\">\n",
       "      <th></th>\n",
       "      <th>Voxel_ID</th>\n",
       "    </tr>\n",
       "  </thead>\n",
       "  <tbody>\n",
       "    <tr>\n",
       "      <th>0</th>\n",
       "      <td>205886</td>\n",
       "    </tr>\n",
       "    <tr>\n",
       "      <th>1</th>\n",
       "      <td>205887</td>\n",
       "    </tr>\n",
       "    <tr>\n",
       "      <th>2</th>\n",
       "      <td>205978</td>\n",
       "    </tr>\n",
       "    <tr>\n",
       "      <th>3</th>\n",
       "      <td>206069</td>\n",
       "    </tr>\n",
       "    <tr>\n",
       "      <th>4</th>\n",
       "      <td>206160</td>\n",
       "    </tr>\n",
       "    <tr>\n",
       "      <th>...</th>\n",
       "      <td>...</td>\n",
       "    </tr>\n",
       "    <tr>\n",
       "      <th>11878</th>\n",
       "      <td>491073</td>\n",
       "    </tr>\n",
       "    <tr>\n",
       "      <th>11879</th>\n",
       "      <td>491164</td>\n",
       "    </tr>\n",
       "    <tr>\n",
       "      <th>11880</th>\n",
       "      <td>491255</td>\n",
       "    </tr>\n",
       "    <tr>\n",
       "      <th>11881</th>\n",
       "      <td>491346</td>\n",
       "    </tr>\n",
       "    <tr>\n",
       "      <th>11882</th>\n",
       "      <td>491437</td>\n",
       "    </tr>\n",
       "  </tbody>\n",
       "</table>\n",
       "<p>11883 rows × 1 columns</p>\n",
       "</div>"
      ],
      "text/plain": [
       "       Voxel_ID\n",
       "0        205886\n",
       "1        205887\n",
       "2        205978\n",
       "3        206069\n",
       "4        206160\n",
       "...         ...\n",
       "11878    491073\n",
       "11879    491164\n",
       "11880    491255\n",
       "11881    491346\n",
       "11882    491437\n",
       "\n",
       "[11883 rows x 1 columns]"
      ]
     },
     "execution_count": 9,
     "metadata": {},
     "output_type": "execute_result"
    }
   ],
   "source": [
    "coord_all.columns=['Voxel_ID']\n",
    "coord_all"
   ]
  },
  {
   "cell_type": "code",
   "execution_count": 14,
   "metadata": {},
   "outputs": [],
   "source": [
    "ofc1_ind=pd.read_csv('C:/Users/canlab/Desktop/Masterthesis_python/ReDoneAnalysis20200420/Labeling/ofc1_ind.csv', header = None)\n",
    "ofc2_ind=pd.read_csv('C:/Users/canlab/Desktop/Masterthesis_python/ReDoneAnalysis20200420/Labeling/ofc2_ind.csv', header = None)\n",
    "ofc3_ind=pd.read_csv('C:/Users/canlab/Desktop/Masterthesis_python/ReDoneAnalysis20200420/Labeling/ofc3_ind.csv', header = None)\n",
    "ofc4_ind=pd.read_csv('C:/Users/canlab/Desktop/Masterthesis_python/ReDoneAnalysis20200420/Labeling/ofc4_ind.csv', header = None)\n",
    "ofc5_ind=pd.read_csv('C:/Users/canlab/Desktop/Masterthesis_python/ReDoneAnalysis20200420/Labeling/ofc5_ind.csv', header = None)\n",
    "ofc6_ind=pd.read_csv('C:/Users/canlab/Desktop/Masterthesis_python/ReDoneAnalysis20200420/Labeling/ofc6_ind.csv', header = None)\n",
    "ofc7_ind=pd.read_csv('C:/Users/canlab/Desktop/Masterthesis_python/ReDoneAnalysis20200420/Labeling/ofc7_ind.csv', header = None)\n",
    "fp2_ind=pd.read_csv('C:/Users/canlab/Desktop/Masterthesis_python/ReDoneAnalysis20200420/Labeling/fp2_ind.csv', header = None)\n",
    "r25_ind=pd.read_csv('C:/Users/canlab/Desktop/Masterthesis_python/ReDoneAnalysis20200420/Labeling/cing_25_ind.csv', header = None)\n",
    "s24_ind=pd.read_csv('C:/Users/canlab/Desktop/Masterthesis_python/ReDoneAnalysis20200420/Labeling/cing_s24_ind.csv', header = None)\n",
    "s32_ind=pd.read_csv('C:/Users/canlab/Desktop/Masterthesis_python/ReDoneAnalysis20200420/Labeling/cing_s32_ind.csv', header = None)\n",
    "r33_ind=pd.read_csv('C:/Users/canlab/Desktop/Masterthesis_python/ReDoneAnalysis20200420/Labeling/cing_33_ind.csv', header = None)\n",
    "p24ab_ind=pd.read_csv('C:/Users/canlab/Desktop/Masterthesis_python/ReDoneAnalysis20200420/Labeling/cing_p24ab_ind.csv', header = None)\n",
    "p24c_ind=pd.read_csv('C:/Users/canlab/Desktop/Masterthesis_python/ReDoneAnalysis20200420/Labeling/cing_p24c_ind.csv', header = None)\n",
    "p32_ind=pd.read_csv('C:/Users/canlab/Desktop/Masterthesis_python/ReDoneAnalysis20200420/Labeling/cing_p32_ind.csv', header = None)\n",
    "putamen_ind=pd.read_csv('C:/Users/canlab/Desktop/Masterthesis_python/ReDoneAnalysis20200420/Labeling/putamen_ind.csv', header = None)\n",
    "nacc_ind=pd.read_csv('C:/Users/canlab/Desktop/Masterthesis_python/ReDoneAnalysis20200420/Labeling/NAcc_ind.csv', header = None)\n",
    "caudate_ind=pd.read_csv('C:/Users/canlab/Desktop/Masterthesis_python/ReDoneAnalysis20200420/Labeling/caudate_ind.csv', header = None)\n",
    "\n"
   ]
  },
  {
   "cell_type": "code",
   "execution_count": null,
   "metadata": {},
   "outputs": [],
   "source": []
  }
 ],
 "metadata": {
  "kernelspec": {
   "display_name": "Python 3",
   "language": "python",
   "name": "python3"
  },
  "language_info": {
   "codemirror_mode": {
    "name": "ipython",
    "version": 3
   },
   "file_extension": ".py",
   "mimetype": "text/x-python",
   "name": "python",
   "nbconvert_exporter": "python",
   "pygments_lexer": "ipython3",
   "version": "3.7.5"
  }
 },
 "nbformat": 4,
 "nbformat_minor": 2
}
